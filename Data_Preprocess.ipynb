{
 "cells": [
  {
   "attachments": {},
   "cell_type": "markdown",
   "metadata": {},
   "source": [
    "### Data Preprocess"
   ]
  },
  {
   "attachments": {},
   "cell_type": "markdown",
   "metadata": {},
   "source": [
    "* malignant"
   ]
  },
  {
   "cell_type": "code",
   "execution_count": null,
   "metadata": {},
   "outputs": [],
   "source": [
    "import pandas as pd\n",
    "import os\n",
    "with open('BreaKHis_v1/histology_slides/breast/malignant/malignant_200x.txt', 'r') as f:\n",
    "    data = [line.strip() for line in f.readlines() if '200X' in line]"
   ]
  },
  {
   "cell_type": "code",
   "execution_count": null,
   "metadata": {},
   "outputs": [],
   "source": [
    "import pandas as pd\n",
    "import numpy as np\n",
    "label_code = [\"ductal_carcinoma\", \"lobular_carcinoma\", \"mucinous_carcinoma\", \"papillary_carcinoma\"]\n",
    "df = []\n",
    "for line in data:\n",
    "    df.append([os.path.join('BreaKHis_v1/histology_slides/breast/malignant', line.split('/', 1)[-1]), label_code.index(line.split('/')[2])])\n",
    "df = pd.DataFrame(df, columns=['image_path', 'label'])\n",
    "df.to_csv('malignant_all.csv', index=False)\n",
    "display(df['label'].describe)\n",
    "df"
   ]
  },
  {
   "cell_type": "code",
   "execution_count": null,
   "metadata": {},
   "outputs": [],
   "source": [
    "import pandas as pd\n",
    "from sklearn.model_selection import StratifiedKFold\n",
    "from tqdm.notebook import tqdm\n",
    "df = pd.read_csv('malignant_all.csv')\n",
    "split = list(StratifiedKFold(n_splits=5, shuffle=True, random_state=1).split(df, df['label']))\n",
    "for fold, (train_index, val_index) in enumerate(tqdm(split)):\n",
    "    df.loc[val_index, 'fold'] = fold\n",
    "df.to_csv('malignant_all_5fold.csv', index=False)\n",
    "df"
   ]
  },
  {
   "attachments": {},
   "cell_type": "markdown",
   "metadata": {},
   "source": [
    "* GastricSlice"
   ]
  },
  {
   "cell_type": "code",
   "execution_count": null,
   "metadata": {},
   "outputs": [],
   "source": [
    "import pandas as pd\n",
    "import os\n",
    "df = pd.read_csv('gastric_all.csv')\n",
    "df['image_path'] = df['image_path'].apply(lambda x: os.path.join('GastricSlice', x))\n",
    "df.to_csv('gastric_all.csv', index=False)\n",
    "df\n"
   ]
  },
  {
   "cell_type": "code",
   "execution_count": null,
   "metadata": {},
   "outputs": [],
   "source": [
    "import pandas as pd\n",
    "from sklearn.model_selection import StratifiedKFold\n",
    "from tqdm.notebook import tqdm\n",
    "df = pd.read_csv('gastric_all.csv')\n",
    "split = list(StratifiedKFold(n_splits=4, shuffle=True, random_state=1).split(df, df['label']))\n",
    "for fold, (train_index, val_index) in enumerate(tqdm(split)):\n",
    "    df.loc[val_index, 'fold'] = fold\n",
    "df.to_csv('gastric_all_4fold.csv', index=False)\n",
    "df"
   ]
  },
  {
   "attachments": {},
   "cell_type": "markdown",
   "metadata": {},
   "source": [
    "### Download Pretrained Weights"
   ]
  },
  {
   "cell_type": "code",
   "execution_count": null,
   "metadata": {},
   "outputs": [],
   "source": [
    "import timm\n",
    "backbone = timm.create_model('vit_base_patch16_224.augreg_in21k', pretrained=True)"
   ]
  }
 ],
 "metadata": {
  "kernelspec": {
   "display_name": "pytorch",
   "language": "python",
   "name": "python3"
  },
  "language_info": {
   "codemirror_mode": {
    "name": "ipython",
    "version": 3
   },
   "file_extension": ".py",
   "mimetype": "text/x-python",
   "name": "python",
   "nbconvert_exporter": "python",
   "pygments_lexer": "ipython3",
   "version": "3.9.13"
  },
  "orig_nbformat": 4,
  "vscode": {
   "interpreter": {
    "hash": "a8319f393cfb329708dbcfbdaca22e99ac9232cce5fb12b7c4f09a28bbe945b9"
   }
  }
 },
 "nbformat": 4,
 "nbformat_minor": 2
}
